{
  "cells": [
    {
      "cell_type": "markdown",
      "metadata": {
        "id": "view-in-github",
        "colab_type": "text"
      },
      "source": [
        "<a href=\"https://colab.research.google.com/github/nathancomley/Intro-to-Programming/blob/main/simple_interest.ipynb\" target=\"_parent\"><img src=\"https://colab.research.google.com/assets/colab-badge.svg\" alt=\"Open In Colab\"/></a>"
      ]
    },
    {
      "cell_type": "markdown",
      "id": "b7a42e71-7361-4878-a06f-0fc857db581f",
      "metadata": {
        "id": "b7a42e71-7361-4878-a06f-0fc857db581f"
      },
      "source": [
        "# Simple Interest Calculator\n",
        "\n",
        "The process of problem solving we will use can be broken down into 5 key steps:\n",
        "1. State the problem clearly\n",
        "2. Describe the input and output information\n",
        "3. Work the problem by hand\n",
        "4. Develop an algorithm (and convert to python) \n",
        "5. Test solution with a variety of data\n",
        "\n",
        "\n",
        "### 1. State Problem Clearly\n",
        "\n",
        "Simple interest in a bank is given by the formula:\n",
        "\n",
        "    Simple Interest = (Ammount Borrowed  x  Interest Rate * years) / 100\n",
        "    \n",
        "\n",
        "### 2. Describe Inputs/Outputs\n",
        "\n",
        "\n",
        "| input | processing | output|\n",
        "|-------|------------|-------|\n",
        "| Amount Borowed |    | Simple Interest |\n",
        "| Interest Rate | | |\n",
        "| Loan Period | | | \n",
        "\n",
        "### 3. Work the problme by hand\n",
        "\n",
        "Borrowed $10,000\n",
        "Interest Rate of 2%\n",
        "Lenghtof loan is 5 years\n",
        "\n",
        "\n",
        "Simple interest \n",
        "=  (10,000 * 2 * 5) / 100\n",
        "= 1,000\n",
        "\n",
        "### 4. Develop and algorithm\n",
        "\n",
        "Here is the pseudocode\n",
        "\n",
        "        Get the amount borrowed\n",
        "        Get the interest rate\n",
        "        Get the loan period\n",
        "        let simple interest = (ammount borrowed * interest rate * loan period) / 100\n",
        "        print The total interest on the loan is: simple interest\n"
      ]
    },
    {
      "cell_type": "code",
      "execution_count": 16,
      "id": "f9a6e70b-c83a-4513-90d7-3cbcfbf9cde7",
      "metadata": {
        "id": "f9a6e70b-c83a-4513-90d7-3cbcfbf9cde7",
        "colab": {
          "base_uri": "https://localhost:8080/"
        },
        "outputId": "ed816c98-4e07-4f75-e35b-052974e831f1"
      },
      "outputs": [
        {
          "output_type": "stream",
          "name": "stdout",
          "text": [
            " enter amount borrowed 1000\n",
            " enter interest rate 2\n",
            " enter loan period 5\n",
            "the total interest on the loan is:  10000\n"
          ]
        }
      ],
      "source": [
        "# Get the amount borrowed\n",
        "amount_borrowed = int(input(\" enter amount borrowed \"))        \n",
        "\n",
        "# Get the interest rate\n",
        "interest_rate = int(input(\" enter interest rate \"))\n",
        "\n",
        "# Get the loan period\n",
        "loan_period = int(input(\" enter loan period \"))\n",
        "\n",
        "# let simple interest = (ammount borrowed * interest rate * loan period)\n",
        "simple_interest = (amount_borrowed * interest_rate * loan_period)\n",
        "\n",
        "# print The total interest on the loan is: simple interest\n",
        "print(\"the total interest on the loan is: \", simple_interest)"
      ]
    },
    {
      "cell_type": "markdown",
      "id": "26e44634-3041-4ffb-acd9-fa11eb36f2df",
      "metadata": {
        "id": "26e44634-3041-4ffb-acd9-fa11eb36f2df"
      },
      "source": [
        "### 5. Test with a variety of data.\n",
        "\n",
        "We could modify the above cell with new data and then run the code.  But rather than type in different values each time, perhaps it easier to be prompted for the infromation.  \n",
        "\n",
        "Write a version that uses the input() function to prompt the user for the required data."
      ]
    },
    {
      "cell_type": "code",
      "source": [
        "# Get the amount borrowed\n",
        "amount_borrowed = int(input(\" enter amount borrowed \"))        \n",
        "\n",
        "# Get the interest rate\n",
        "interest_rate = int(input(\" enter interest rate \"))\n",
        "\n",
        "# Get the loan period\n",
        "loan_period = int(input(\" enter loan period \"))\n",
        "\n",
        "# let simple interest = (ammount borrowed * interest rate * loan period)\n",
        "simple_interest = (amount_borrowed * interest_rate * loan_period)\n",
        "\n",
        "# print The total interest on the loan is: simple interest\n",
        "print(\"the total interest on the loan is: \", simple_interest)"
      ],
      "metadata": {
        "colab": {
          "base_uri": "https://localhost:8080/"
        },
        "id": "5Aek1HrtZatu",
        "outputId": "4fc535d9-59ef-4dc1-c630-7d8ed370a54f"
      },
      "id": "5Aek1HrtZatu",
      "execution_count": 17,
      "outputs": [
        {
          "output_type": "stream",
          "name": "stdout",
          "text": [
            " enter amount borrowed 5000\n",
            " enter interest rate 7\n",
            " enter loan period 10\n",
            "the total interest on the loan is:  350000\n"
          ]
        }
      ]
    },
    {
      "cell_type": "code",
      "source": [
        "# Get the amount borrowed\n",
        "amount_borrowed = int(input(\" enter amount borrowed \"))        \n",
        "\n",
        "# Get the interest rate\n",
        "interest_rate = int(input(\" enter interest rate \"))\n",
        "\n",
        "# Get the loan period\n",
        "loan_period = int(input(\" enter loan period \"))\n",
        "\n",
        "# let simple interest = (ammount borrowed * interest rate * loan period)\n",
        "simple_interest = (amount_borrowed * interest_rate * loan_period)\n",
        "\n",
        "# print The total interest on the loan is: simple interest\n",
        "print(\"the total interest on the loan is: \", simple_interest)"
      ],
      "metadata": {
        "colab": {
          "base_uri": "https://localhost:8080/"
        },
        "id": "Z20FiCbacUFh",
        "outputId": "2c44c83d-6abb-4332-9e4e-fd5a007d2e68"
      },
      "id": "Z20FiCbacUFh",
      "execution_count": 18,
      "outputs": [
        {
          "output_type": "stream",
          "name": "stdout",
          "text": [
            " enter amount borrowed 20000\n",
            " enter interest rate 4\n",
            " enter loan period 15\n",
            "the total interest on the loan is:  1200000\n"
          ]
        }
      ]
    }
  ],
  "metadata": {
    "kernelspec": {
      "display_name": "Python 3 (ipykernel)",
      "language": "python",
      "name": "python3"
    },
    "language_info": {
      "codemirror_mode": {
        "name": "ipython",
        "version": 3
      },
      "file_extension": ".py",
      "mimetype": "text/x-python",
      "name": "python",
      "nbconvert_exporter": "python",
      "pygments_lexer": "ipython3",
      "version": "3.9.6"
    },
    "colab": {
      "name": "simple_interest.ipynb",
      "provenance": [],
      "collapsed_sections": [],
      "include_colab_link": true
    }
  },
  "nbformat": 4,
  "nbformat_minor": 5
}