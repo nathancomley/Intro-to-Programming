{
  "nbformat": 4,
  "nbformat_minor": 0,
  "metadata": {
    "colab": {
      "name": "Copy of testing_with_docutest_.ipynb",
      "provenance": [],
      "collapsed_sections": [],
      "include_colab_link": true
    },
    "kernelspec": {
      "name": "python3",
      "display_name": "Python 3"
    },
    "language_info": {
      "name": "python"
    }
  },
  "cells": [
    {
      "cell_type": "markdown",
      "metadata": {
        "id": "view-in-github",
        "colab_type": "text"
      },
      "source": [
        "<a href=\"https://colab.research.google.com/github/nathancomley/Intro-to-Programming/blob/main/Copy_of_testing_with_docutest_.ipynb\" target=\"_parent\"><img src=\"https://colab.research.google.com/assets/colab-badge.svg\" alt=\"Open In Colab\"/></a>"
      ]
    },
    {
      "cell_type": "markdown",
      "source": [
        "# Testing with docutest\n",
        "\n",
        "In this notebook we introduct another testing strategy using the package [doctest](https://docs.python.org/3/library/doctest.html) A Python doctest is written as though it is a comment with an example of the function and the expected output.  "
      ],
      "metadata": {
        "id": "xr1cG_-IhGrb"
      }
    },
    {
      "cell_type": "code",
      "execution_count": 2,
      "metadata": {
        "id": "rguWIpskg6pf"
      },
      "outputs": [],
      "source": [
        "def add(x, y):\n",
        "    '''Add two numbers'''\n",
        "    return x + y\n",
        "\n",
        "def divide(x, y):\n",
        "    '''Divide first by second number'''\n",
        "    return x / y\n",
        "\n",
        "def multiply(x, y):\n",
        "    '''Multiple two numbers'''\n",
        "    return x * y\n",
        "\n",
        "def subtract(x, y):\n",
        "    '''Subtract two numbers'''\n",
        "    return x - y"
      ]
    },
    {
      "cell_type": "markdown",
      "source": [
        "# Test Table\n",
        "\n",
        "We will use out test table from previous notebook.\n",
        "\n",
        "| Test # | Type    | Data     | Expected | Actual | Pass/Fail |\n",
        "|--------|---------|----------|----------|--------|-----------|\n",
        "|  1     | Valid   |0,0       | 0        |        |           |\n",
        "|  2     | Valid   |1,1       | 2        |        |           |\n",
        "|  3     | Valid   |-1,-1     | -2       |        |           |\n",
        "|  4     | Valid   |1.1,1.1   | 2.2      |        |           |\n",
        "|  5     | Valid   |-1.1,-1.1 | 2.2      |        |           |\n",
        "|  6     | Invalid |'0',0     | 'Not a number'|   |           |\n",
        "|  7     | Invalid |'One','0' | 'Not a number'|   |           |\n",
        "|  8     | Invalid |[1],[1]   | 'Not a number'|   |           |\n",
        "|  9     | Invalid |{1},{1}   | 'Not a number'|   |           |\n",
        "\n",
        "\n",
        "\n",
        "# doctest\n",
        "\n",
        "Documentation and testing are core components of every software development process. Docutest is a Python package that allows you to specify test in a functions docstring.  Let us consider the add() function.\n",
        "\n",
        "To add a test we simulate a interactive python session by calling the function after the interactive prompt ```>>>```.  The next line will contain the expected output.  The module doctest will search pieces of text within comments that look like interactive Python sessions and then build up the test case and execute the tests.\n"
      ],
      "metadata": {
        "id": "Ouf_I-wOkLW_"
      }
    },
    {
      "cell_type": "code",
      "source": [
        "import doctest\n",
        "\n",
        "def isNumber(x):\n",
        "  '''\n",
        "  Test if the input is a integer or float\n",
        "  '''\n",
        "  result = (type(x) == int or type(x) == float)\n",
        "\n",
        "def add(x, y):\n",
        "    '''Add two numbers\n",
        "    >>> add(1,1)\n",
        "    2\n",
        "    >>> add('0',0)\n",
        "    'Not a number'\n",
        "    '''\n",
        "    if isNumber(x) and isNumber(y):\n",
        "      return x + y\n",
        "    return \"Not a number\"\n",
        "    return result"
      ],
      "metadata": {
        "id": "iOFin6zwj94Y"
      },
      "execution_count": 3,
      "outputs": []
    },
    {
      "cell_type": "code",
      "source": [
        "doctest.testmod()"
      ],
      "metadata": {
        "id": "ip-5bULUGjuz",
        "outputId": "60f771a7-e77d-4e31-8ccf-c905d9394606",
        "colab": {
          "base_uri": "https://localhost:8080/"
        }
      },
      "execution_count": 4,
      "outputs": [
        {
          "output_type": "stream",
          "name": "stderr",
          "text": [
            "\n",
            "PYDEV DEBUGGER WARNING:\n",
            "sys.settrace() should not be used when the debugger is being used.\n",
            "This may cause the debugger to stop working correctly.\n",
            "If this is needed, please check: \n",
            "http://pydev.blogspot.com/2007/06/why-cant-pydev-debugger-work-with.html\n",
            "to see how to restore the debug tracing back correctly.\n",
            "Call Location:\n",
            "  File \"/usr/lib/python3.7/doctest.py\", line 1487, in run\n",
            "    sys.settrace(save_trace)\n",
            "\n"
          ]
        },
        {
          "output_type": "stream",
          "name": "stdout",
          "text": [
            "**********************************************************************\n",
            "File \"__main__\", line 11, in __main__.add\n",
            "Failed example:\n",
            "    add(1,1)\n",
            "Expected:\n",
            "    2\n",
            "Got:\n",
            "    'Not a number'\n",
            "**********************************************************************\n",
            "1 items had failures:\n",
            "   1 of   2 in __main__.add\n",
            "***Test Failed*** 1 failures.\n"
          ]
        },
        {
          "output_type": "execute_result",
          "data": {
            "text/plain": [
              "TestResults(failed=1, attempted=2)"
            ]
          },
          "metadata": {},
          "execution_count": 4
        }
      ]
    },
    {
      "cell_type": "markdown",
      "source": [
        "As in the previous notebook, lets update our add() function and write a support function to check is a argumnet is a number."
      ],
      "metadata": {
        "id": "LQyUbfeDHetW"
      }
    },
    {
      "cell_type": "code",
      "source": [
        ""
      ],
      "metadata": {
        "id": "4ZeCUHbrHNrx"
      },
      "execution_count": null,
      "outputs": []
    },
    {
      "cell_type": "markdown",
      "source": [
        "Run the test again"
      ],
      "metadata": {
        "id": "Vb-y189zIhE0"
      }
    },
    {
      "cell_type": "code",
      "source": [
        ""
      ],
      "metadata": {
        "id": "BlF3eDChIjcu"
      },
      "execution_count": null,
      "outputs": []
    }
  ]
}