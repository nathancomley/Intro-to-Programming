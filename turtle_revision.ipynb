{
  "nbformat": 4,
  "nbformat_minor": 0,
  "metadata": {
    "colab": {
      "name": "turtle_revision.ipynb",
      "provenance": [],
      "include_colab_link": true
    },
    "kernelspec": {
      "name": "python3",
      "display_name": "Python 3"
    }
  },
  "cells": [
    {
      "cell_type": "markdown",
      "metadata": {
        "id": "view-in-github",
        "colab_type": "text"
      },
      "source": [
        "<a href=\"https://colab.research.google.com/github/nathancomley/Intro-to-Programming/blob/main/turtle_revision.ipynb\" target=\"_parent\"><img src=\"https://colab.research.google.com/assets/colab-badge.svg\" alt=\"Open In Colab\"/></a>"
      ]
    },
    {
      "cell_type": "markdown",
      "source": [
        "# Turtle Revision\n",
        "\n",
        "In this notebook, you will:\n",
        "\n",
        "* Understand what the Python turtle library\n",
        "* Program with the Python turtle library\n",
        "* Review some important Python concepts\n",
        "  * sequence\n",
        "  * selection (conditionals, if-then)\n",
        "  * repetition (loops, for and while)\n",
        "  * create functions\n",
        "  * imports modules\n",
        "  * process user input\n",
        "\n",
        "\n"
      ],
      "metadata": {
        "id": "Jx1Y3XSQfAd7"
      }
    },
    {
      "cell_type": "code",
      "metadata": {
        "id": "2ISLuNPF2LKE",
        "colab": {
          "base_uri": "https://localhost:8080/"
        },
        "outputId": "679a1b6a-9b54-4a64-8333-57006f2b6f7f"
      },
      "source": [
        "!pip install ColabTurtlePlus\n",
        "import ColabTurtlePlus.Turtle as turtle"
      ],
      "execution_count": 2,
      "outputs": [
        {
          "output_type": "stream",
          "name": "stdout",
          "text": [
            "Looking in indexes: https://pypi.org/simple, https://us-python.pkg.dev/colab-wheels/public/simple/\n",
            "Collecting ColabTurtlePlus\n",
            "  Downloading ColabTurtlePlus-2.0.1-py3-none-any.whl (31 kB)\n",
            "Installing collected packages: ColabTurtlePlus\n",
            "Successfully installed ColabTurtlePlus-2.0.1\n",
            "Put clearscreen() as the first line in a cell (after the import command) to re-run turtle commands in the cell\n"
          ]
        }
      ]
    },
    {
      "cell_type": "markdown",
      "source": [
        "## Moving the Turtle\n",
        "There are four directions that a turtle can move in:\n",
        "\n",
        "* Forward\n",
        "* Backward\n",
        "* Left\n",
        "* Right\n",
        "\n",
        "The turtle moves .forward() or .backward() in the direction that it’s facing. You can change this direction by turning it .left() or .right() by a certain degree. You can try each of these commands like so:"
      ],
      "metadata": {
        "id": "2rUuqWqFOP44"
      }
    },
    {
      "cell_type": "code",
      "source": [
        "# setup the canvas\n",
        "turtle.clearscreen()\n",
        "turtle.setup(300,300)\n",
        "\n",
        "# createa turtle\n",
        "snappy = turtle.Turtle()\n",
        "\n",
        "# draw\n",
        "snappy.right(90)\n",
        "snappy.forward(100)\n",
        "snappy.left(90)\n",
        "snappy.backward(100)"
      ],
      "metadata": {
        "id": "SviYXlw4KuJu",
        "colab": {
          "base_uri": "https://localhost:8080/",
          "height": 322
        },
        "outputId": "4e6d8d59-21de-4db8-916e-44f6fefb4d17"
      },
      "execution_count": 3,
      "outputs": [
        {
          "output_type": "display_data",
          "data": {
            "text/plain": [
              "<IPython.core.display.HTML object>"
            ],
            "text/html": [
              "\n",
              "      <svg width=\"300\" height=\"300\">  \n",
              "        <rect width=\"100%\" height=\"100%\" style=\"fill:white;stroke:;stroke-width:1\"/>\n",
              "        \n",
              "        \n",
              "        <line x1=\"150.0\" y1=\"150.0\" x2=\"150.0\" y2=\"250.0\" stroke-linecap=\"round\" style=\"stroke:black;stroke-width:1\" /><line x1=\"150.0\" y1=\"250.0\" x2=\"140.0\" y2=\"250.0\" stroke-linecap=\"round\" style=\"stroke:black;stroke-width:1\" /><line x1=\"140.0\" y1=\"250.0\" x2=\"130.0\" y2=\"250.0\" stroke-linecap=\"round\" style=\"stroke:black;stroke-width:1\" /><line x1=\"130.0\" y1=\"250.0\" x2=\"120.0\" y2=\"250.0\" stroke-linecap=\"round\" style=\"stroke:black;stroke-width:1\" /><line x1=\"120.0\" y1=\"250.0\" x2=\"110.0\" y2=\"250.0\" stroke-linecap=\"round\" style=\"stroke:black;stroke-width:1\" /><line x1=\"110.0\" y1=\"250.0\" x2=\"100.0\" y2=\"250.0\" stroke-linecap=\"round\" style=\"stroke:black;stroke-width:1\" /><line x1=\"100.0\" y1=\"250.0\" x2=\"90.0\" y2=\"250.0\" stroke-linecap=\"round\" style=\"stroke:black;stroke-width:1\" /><line x1=\"90.0\" y1=\"250.0\" x2=\"80.0\" y2=\"250.0\" stroke-linecap=\"round\" style=\"stroke:black;stroke-width:1\" /><line x1=\"80.0\" y1=\"250.0\" x2=\"70.0\" y2=\"250.0\" stroke-linecap=\"round\" style=\"stroke:black;stroke-width:1\" /><line x1=\"70.0\" y1=\"250.0\" x2=\"60.0\" y2=\"250.0\" stroke-linecap=\"round\" style=\"stroke:black;stroke-width:1\" /><line x1=\"60.0\" y1=\"250.0\" x2=\"50.0\" y2=\"250.0\" stroke-linecap=\"round\" style=\"stroke:black;stroke-width:1\" />\n",
              "        \n",
              "        \n",
              "        <g id=\"classic\" visibility=\"visible\" transform=\"rotate(-90,50.0,250.0) translate(50.0, 250.0)\">\n",
              "<polygon points=\"-5,-4.5 0,-2.5 5,-4.5 0,4.5\" transform=\"skewX(0) scale(1,1)\" style=\"stroke:black;fill:black;stroke-width:1\" />\n",
              "</g>\n",
              "      </svg>\n",
              "    "
            ]
          },
          "metadata": {}
        }
      ]
    },
    {
      "cell_type": "markdown",
      "source": [
        "## But I want a turtle!"
      ],
      "metadata": {
        "id": "VrW25t8GLNUn"
      }
    },
    {
      "cell_type": "code",
      "source": [
        "# setup the canvas\n",
        "turtle.clearscreen()\n",
        "turtle.setup(300,300)\n",
        "\n",
        "# createa turtle\n",
        "snappy = turtle.Turtle()\n",
        "snappy.shape('turtle')\n",
        "\n",
        "# draw\n",
        "snappy.right(90)\n",
        "snappy.forward(100)\n",
        "snappy.left(90)\n",
        "snappy.backward(100)"
      ],
      "metadata": {
        "id": "pRV6F7PpLSGb",
        "colab": {
          "base_uri": "https://localhost:8080/",
          "height": 322
        },
        "outputId": "a33f40df-9f5f-4e75-f2ef-c5dc813aa785"
      },
      "execution_count": 4,
      "outputs": [
        {
          "output_type": "display_data",
          "data": {
            "text/plain": [
              "<IPython.core.display.HTML object>"
            ],
            "text/html": [
              "\n",
              "      <svg width=\"300\" height=\"300\">  \n",
              "        <rect width=\"100%\" height=\"100%\" style=\"fill:white;stroke:;stroke-width:1\"/>\n",
              "        \n",
              "        \n",
              "        <line x1=\"150.0\" y1=\"150.0\" x2=\"150.0\" y2=\"250.0\" stroke-linecap=\"round\" style=\"stroke:black;stroke-width:1\" /><line x1=\"150.0\" y1=\"250.0\" x2=\"140.0\" y2=\"250.0\" stroke-linecap=\"round\" style=\"stroke:black;stroke-width:1\" /><line x1=\"140.0\" y1=\"250.0\" x2=\"130.0\" y2=\"250.0\" stroke-linecap=\"round\" style=\"stroke:black;stroke-width:1\" /><line x1=\"130.0\" y1=\"250.0\" x2=\"120.0\" y2=\"250.0\" stroke-linecap=\"round\" style=\"stroke:black;stroke-width:1\" /><line x1=\"120.0\" y1=\"250.0\" x2=\"110.0\" y2=\"250.0\" stroke-linecap=\"round\" style=\"stroke:black;stroke-width:1\" /><line x1=\"110.0\" y1=\"250.0\" x2=\"100.0\" y2=\"250.0\" stroke-linecap=\"round\" style=\"stroke:black;stroke-width:1\" /><line x1=\"100.0\" y1=\"250.0\" x2=\"90.0\" y2=\"250.0\" stroke-linecap=\"round\" style=\"stroke:black;stroke-width:1\" /><line x1=\"90.0\" y1=\"250.0\" x2=\"80.0\" y2=\"250.0\" stroke-linecap=\"round\" style=\"stroke:black;stroke-width:1\" /><line x1=\"80.0\" y1=\"250.0\" x2=\"70.0\" y2=\"250.0\" stroke-linecap=\"round\" style=\"stroke:black;stroke-width:1\" /><line x1=\"70.0\" y1=\"250.0\" x2=\"60.0\" y2=\"250.0\" stroke-linecap=\"round\" style=\"stroke:black;stroke-width:1\" /><line x1=\"60.0\" y1=\"250.0\" x2=\"50.0\" y2=\"250.0\" stroke-linecap=\"round\" style=\"stroke:black;stroke-width:1\" />\n",
              "        \n",
              "        \n",
              "        <g id=\"turtle\" visibility=\"visible\" transform=\"rotate(90,50.0,250.0) translate(50.0, 250.0)\">\n",
              "<path style=\"stroke:black;fill-rule:evenodd;fill:black;fill-opacity:1;\" transform=\"skewX(0) scale(1,1)\" d=\"m 1.1536693,-18.56101 c -2.105469,1.167969 -3.203125,3.441407 -3.140625,6.5 l 0.011719,0.519532 -0.300782,-0.15625 c -1.308594,-0.671875 -2.828125,-0.824219 -4.378906,-0.429688 -1.9375,0.484375 -3.8906253,2.089844 -6.0117193,4.9257825 -1.332031,1.785156 -1.714843,2.644531 -1.351562,3.035156 l 0.113281,0.125 h 0.363281 c 0.71875,0 1.308594,-0.265625 4.6679693,-2.113282 1.199219,-0.660156 2.183594,-1.199218 2.191406,-1.199218 0.00781,0 -0.023437,0.089844 -0.074218,0.195312 -0.472657,1.058594 -1.046876,2.785156 -1.335938,4.042969 -1.054688,4.574219 -0.351562,8.453125 2.101562,11.582031 0.28125,0.355469 0.292969,0.253906 -0.097656,0.722656 -2.046875,2.4609375 -3.027344,4.8984375 -2.734375,6.8046875 0.050781,0.339844 0.042969,0.335938 0.679688,0.335938 2.023437,0 4.15625,-1.316407 6.21875,-3.835938 0.222656,-0.269531 0.191406,-0.261719 0.425781,-0.113281 0.730469,0.46875 2.460938,1.390625 2.613281,1.390625 0.160157,0 1.765625,-0.753906 2.652344,-1.246094 0.167969,-0.09375 0.308594,-0.164062 0.308594,-0.160156 0.066406,0.105468 0.761719,0.855468 1.085937,1.171875 1.613282,1.570312 3.339844,2.402343 5.3593747,2.570312 0.324219,0.02734 0.355469,0.0078 0.425781,-0.316406 0.375,-1.742187 -0.382812,-4.058594 -2.1445307,-6.5585935 l -0.320312,-0.457031 0.15625,-0.183594 c 3.2460927,-3.824218 3.4335927,-9.08593704 0.558593,-15.816406 l -0.050781,-0.125 1.7382807,0.859375 c 3.585938,1.773437 4.371094,2.097656 5.085938,2.097656 0.945312,0 0.75,-0.863281 -0.558594,-2.507812 C 11.458356,-11.838353 8.3333563,-13.268041 4.8607003,-11.721166 l -0.363281,0.164063 0.019531,-0.09375 c 0.121094,-0.550781 0.183594,-1.800781 0.121094,-2.378907 -0.203125,-1.867187 -1.035157,-3.199218 -2.695313,-4.308593 -0.523437,-0.351563 -0.546875,-0.355469 -0.789062,-0.222657\" />\n",
              "</g>\n",
              "      </svg>\n",
              "    "
            ]
          },
          "metadata": {}
        }
      ]
    },
    {
      "cell_type": "markdown",
      "source": [
        "You have a couple of other options that you can try as well:\n",
        "\n",
        "* Square\n",
        "* Arrow\n",
        "* Circle\n",
        "* Turtle\n",
        "* Triangle\n",
        "* Classic\n",
        "\n",
        "The screen is divided into four quadrants. The point where the turtle is initially positioned at the beginning of your program is (0,0). This is called Home. To move the turtle to any other area on the screen, you use .jumpto() and enter the coordinates."
      ],
      "metadata": {
        "id": "zZBmjliPLuCK"
      }
    },
    {
      "cell_type": "code",
      "source": [
        "# setup the canvas\n",
        "turtle.clearscreen()\n",
        "turtle.setup(300,300)\n",
        "\n",
        "# createa turtle\n",
        "snappy = turtle.Turtle()\n",
        "snappy.shape('turtle')\n",
        "\n",
        "# draw\n",
        "snappy.right(90)\n",
        "snappy.forward(100)\n",
        "snappy.left(90)\n",
        "snappy.backward(100)\n",
        "\n",
        "snappy.jumpto(100,100)"
      ],
      "metadata": {
        "id": "o1Rk2okmL1cD",
        "colab": {
          "base_uri": "https://localhost:8080/",
          "height": 322
        },
        "outputId": "14a086e4-1c05-4c18-9429-9e8c1d33c797"
      },
      "execution_count": 5,
      "outputs": [
        {
          "output_type": "display_data",
          "data": {
            "text/plain": [
              "<IPython.core.display.HTML object>"
            ],
            "text/html": [
              "\n",
              "      <svg width=\"300\" height=\"300\">  \n",
              "        <rect width=\"100%\" height=\"100%\" style=\"fill:white;stroke:;stroke-width:1\"/>\n",
              "        \n",
              "        \n",
              "        <line x1=\"150.0\" y1=\"150.0\" x2=\"150.0\" y2=\"250.0\" stroke-linecap=\"round\" style=\"stroke:black;stroke-width:1\" /><line x1=\"150.0\" y1=\"250.0\" x2=\"50.0\" y2=\"250.0\" stroke-linecap=\"round\" style=\"stroke:black;stroke-width:1\" />\n",
              "        \n",
              "        \n",
              "        <g id=\"turtle\" visibility=\"visible\" transform=\"rotate(450.0,250.0,50.0) translate(250.0, 50.0)\">\n",
              "<path style=\"stroke:black;fill-rule:evenodd;fill:black;fill-opacity:1;\" transform=\"skewX(0) scale(1,1)\" d=\"m 1.1536693,-18.56101 c -2.105469,1.167969 -3.203125,3.441407 -3.140625,6.5 l 0.011719,0.519532 -0.300782,-0.15625 c -1.308594,-0.671875 -2.828125,-0.824219 -4.378906,-0.429688 -1.9375,0.484375 -3.8906253,2.089844 -6.0117193,4.9257825 -1.332031,1.785156 -1.714843,2.644531 -1.351562,3.035156 l 0.113281,0.125 h 0.363281 c 0.71875,0 1.308594,-0.265625 4.6679693,-2.113282 1.199219,-0.660156 2.183594,-1.199218 2.191406,-1.199218 0.00781,0 -0.023437,0.089844 -0.074218,0.195312 -0.472657,1.058594 -1.046876,2.785156 -1.335938,4.042969 -1.054688,4.574219 -0.351562,8.453125 2.101562,11.582031 0.28125,0.355469 0.292969,0.253906 -0.097656,0.722656 -2.046875,2.4609375 -3.027344,4.8984375 -2.734375,6.8046875 0.050781,0.339844 0.042969,0.335938 0.679688,0.335938 2.023437,0 4.15625,-1.316407 6.21875,-3.835938 0.222656,-0.269531 0.191406,-0.261719 0.425781,-0.113281 0.730469,0.46875 2.460938,1.390625 2.613281,1.390625 0.160157,0 1.765625,-0.753906 2.652344,-1.246094 0.167969,-0.09375 0.308594,-0.164062 0.308594,-0.160156 0.066406,0.105468 0.761719,0.855468 1.085937,1.171875 1.613282,1.570312 3.339844,2.402343 5.3593747,2.570312 0.324219,0.02734 0.355469,0.0078 0.425781,-0.316406 0.375,-1.742187 -0.382812,-4.058594 -2.1445307,-6.5585935 l -0.320312,-0.457031 0.15625,-0.183594 c 3.2460927,-3.824218 3.4335927,-9.08593704 0.558593,-15.816406 l -0.050781,-0.125 1.7382807,0.859375 c 3.585938,1.773437 4.371094,2.097656 5.085938,2.097656 0.945312,0 0.75,-0.863281 -0.558594,-2.507812 C 11.458356,-11.838353 8.3333563,-13.268041 4.8607003,-11.721166 l -0.363281,0.164063 0.019531,-0.09375 c 0.121094,-0.550781 0.183594,-1.800781 0.121094,-2.378907 -0.203125,-1.867187 -1.035157,-3.199218 -2.695313,-4.308593 -0.523437,-0.351563 -0.546875,-0.355469 -0.789062,-0.222657\" />\n",
              "</g>\n",
              "      </svg>\n",
              "    "
            ]
          },
          "metadata": {}
        }
      ]
    },
    {
      "cell_type": "markdown",
      "source": [
        "# Drawing Preset Figures\n",
        "\n",
        "The Python turtle library has some preset shapes"
      ],
      "metadata": {
        "id": "kOFF9GfrMVnC"
      }
    },
    {
      "cell_type": "code",
      "source": [
        "# setup the canvas\n",
        "turtle.clearscreen()\n",
        "turtle.setup(300,300)\n",
        "\n",
        "# createa turtle\n",
        "snappy = turtle.Turtle()\n",
        "snappy.shape('turtle')\n",
        "\n",
        "snappy.circle(60)\n",
        "snappy.jumpto(-100,-110)\n",
        "snappy.dot(30)\n",
        "snappy.jumpto(-100, -50)\n"
      ],
      "metadata": {
        "id": "SKs1YALZMjOb",
        "colab": {
          "base_uri": "https://localhost:8080/",
          "height": 322
        },
        "outputId": "37833068-eef1-4d13-f571-7082a81d8e5e"
      },
      "execution_count": 6,
      "outputs": [
        {
          "output_type": "display_data",
          "data": {
            "text/plain": [
              "<IPython.core.display.HTML object>"
            ],
            "text/html": [
              "\n",
              "      <svg width=\"300\" height=\"300\">  \n",
              "        <rect width=\"100%\" height=\"100%\" style=\"fill:white;stroke:;stroke-width:1\"/>\n",
              "        \n",
              "        \n",
              "        <path d=\"M 150.0 150.0 A 60 60 0 0 0 150.0 30.0\" stroke-linecap=\"round\" \n",
              "            fill=\"transparent\" fill-opacity=\"0\" style=\"stroke:black;stroke-width:1\"/><path d=\"M 150.0 30.0 A 60 60 0 0 0 150.0 150.0\" stroke-linecap=\"round\" \n",
              "            fill=\"transparent\" fill-opacity=\"0\" style=\"stroke:black;stroke-width:1\"/>\n",
              "        <circle cx=\"50.0\" cy=\"260.0\" r=\"15.0\" fill=\"black\" fill-opacity=\"1\" />\n",
              "        \n",
              "        <g id=\"turtle\" visibility=\"visible\" transform=\"rotate(450.0,50.0,200.0) translate(50.0, 200.0)\">\n",
              "<path style=\"stroke:black;fill-rule:evenodd;fill:black;fill-opacity:1;\" transform=\"skewX(0) scale(1,1)\" d=\"m 1.1536693,-18.56101 c -2.105469,1.167969 -3.203125,3.441407 -3.140625,6.5 l 0.011719,0.519532 -0.300782,-0.15625 c -1.308594,-0.671875 -2.828125,-0.824219 -4.378906,-0.429688 -1.9375,0.484375 -3.8906253,2.089844 -6.0117193,4.9257825 -1.332031,1.785156 -1.714843,2.644531 -1.351562,3.035156 l 0.113281,0.125 h 0.363281 c 0.71875,0 1.308594,-0.265625 4.6679693,-2.113282 1.199219,-0.660156 2.183594,-1.199218 2.191406,-1.199218 0.00781,0 -0.023437,0.089844 -0.074218,0.195312 -0.472657,1.058594 -1.046876,2.785156 -1.335938,4.042969 -1.054688,4.574219 -0.351562,8.453125 2.101562,11.582031 0.28125,0.355469 0.292969,0.253906 -0.097656,0.722656 -2.046875,2.4609375 -3.027344,4.8984375 -2.734375,6.8046875 0.050781,0.339844 0.042969,0.335938 0.679688,0.335938 2.023437,0 4.15625,-1.316407 6.21875,-3.835938 0.222656,-0.269531 0.191406,-0.261719 0.425781,-0.113281 0.730469,0.46875 2.460938,1.390625 2.613281,1.390625 0.160157,0 1.765625,-0.753906 2.652344,-1.246094 0.167969,-0.09375 0.308594,-0.164062 0.308594,-0.160156 0.066406,0.105468 0.761719,0.855468 1.085937,1.171875 1.613282,1.570312 3.339844,2.402343 5.3593747,2.570312 0.324219,0.02734 0.355469,0.0078 0.425781,-0.316406 0.375,-1.742187 -0.382812,-4.058594 -2.1445307,-6.5585935 l -0.320312,-0.457031 0.15625,-0.183594 c 3.2460927,-3.824218 3.4335927,-9.08593704 0.558593,-15.816406 l -0.050781,-0.125 1.7382807,0.859375 c 3.585938,1.773437 4.371094,2.097656 5.085938,2.097656 0.945312,0 0.75,-0.863281 -0.558594,-2.507812 C 11.458356,-11.838353 8.3333563,-13.268041 4.8607003,-11.721166 l -0.363281,0.164063 0.019531,-0.09375 c 0.121094,-0.550781 0.183594,-1.800781 0.121094,-2.378907 -0.203125,-1.867187 -1.035157,-3.199218 -2.695313,-4.308593 -0.523437,-0.351563 -0.546875,-0.355469 -0.789062,-0.222657\" />\n",
              "</g>\n",
              "      </svg>\n",
              "    "
            ]
          },
          "metadata": {}
        }
      ]
    },
    {
      "cell_type": "markdown",
      "source": [
        "You can change, turtle size, pen colour, line thickness, fill colour, background colour etc.  I wont go through them all but here is an example."
      ],
      "metadata": {
        "id": "sdeV02xHNOo4"
      }
    },
    {
      "cell_type": "code",
      "source": [
        "# setup the canvas\n",
        "turtle.clearscreen()\n",
        "turtle.setup(200,300)\n",
        "\n",
        "# create the turtle\n",
        "snappy = turtle.Turtle()\n",
        "\n",
        "# change a few settings\n",
        "snappy.pen(pencolor=\"purple\", fillcolor=\"orange\", pensize=10, speed=9)\n",
        "snappy.begin_fill()\n",
        "snappy.circle(50)\n",
        "snappy.end_fill()"
      ],
      "metadata": {
        "id": "H0G2oMEqJj24",
        "colab": {
          "base_uri": "https://localhost:8080/",
          "height": 322
        },
        "outputId": "0fda4646-13e3-492a-d2c7-782d01d4bf5d"
      },
      "execution_count": 7,
      "outputs": [
        {
          "output_type": "display_data",
          "data": {
            "text/plain": [
              "<IPython.core.display.HTML object>"
            ],
            "text/html": [
              "\n",
              "      <svg width=\"200\" height=\"300\">  \n",
              "        <rect width=\"100%\" height=\"100%\" style=\"fill:white;stroke:;stroke-width:1\"/>\n",
              "        \n",
              "        \n",
              "        <path fill-rule=\"evenodd\" fill-opacity=\"1\" d=\"M 100.0 150.0  A 50 50 0 0 0 100.0 50.0  A 50 50 0 0 0 100.0 150.0 \" stroke-linecap=\"round\" style=\"stroke:purple;stroke-width:10\" fill=\"orange\" />\n",
              "        \n",
              "        \n",
              "        <g id=\"classic\" visibility=\"visible\" transform=\"rotate(-90.0,100.0,150.0) translate(100.0, 150.0)\">\n",
              "<polygon points=\"-5,-4.5 0,-2.5 5,-4.5 0,4.5\" transform=\"skewX(0) scale(1,1)\" style=\"stroke:purple;fill:orange;stroke-width:1\" />\n",
              "</g>\n",
              "      </svg>\n",
              "    "
            ]
          },
          "metadata": {}
        }
      ]
    },
    {
      "cell_type": "markdown",
      "source": [
        "# Drawing a Shape\n",
        "\n",
        "Now that you know the movements of the turtle, you can move on to making actual shapes. We will start by drawing polygons since they all consist of straight lines connected at certain angles. "
      ],
      "metadata": {
        "id": "i5a98HkyNzmQ"
      }
    },
    {
      "cell_type": "code",
      "source": [
        "# setup the canvas\n",
        "turtle.clearscreen()\n",
        "turtle.setup(300,300)\n",
        "\n",
        "# create the turtle\n",
        "snappy = turtle.Turtle()\n",
        "\n",
        "snappy.forward(100)\n",
        "snappy.right(90)\n",
        "snappy.forward(100)\n",
        "snappy.right(90)\n",
        "snappy.forward(100)\n",
        "snappy.right(90)\n",
        "snappy.forward(100)"
      ],
      "metadata": {
        "id": "FSB2Ok-6OK3B",
        "colab": {
          "base_uri": "https://localhost:8080/",
          "height": 322
        },
        "outputId": "798afd5b-0a98-48de-a1d5-2180a4e043e9"
      },
      "execution_count": 8,
      "outputs": [
        {
          "output_type": "display_data",
          "data": {
            "text/plain": [
              "<IPython.core.display.HTML object>"
            ],
            "text/html": [
              "\n",
              "      <svg width=\"300\" height=\"300\">  \n",
              "        <rect width=\"100%\" height=\"100%\" style=\"fill:white;stroke:;stroke-width:1\"/>\n",
              "        \n",
              "        \n",
              "        <line x1=\"150.0\" y1=\"150.0\" x2=\"250.0\" y2=\"150.0\" stroke-linecap=\"round\" style=\"stroke:black;stroke-width:1\" /><line x1=\"250.0\" y1=\"150.0\" x2=\"250.0\" y2=\"250.0\" stroke-linecap=\"round\" style=\"stroke:black;stroke-width:1\" /><line x1=\"250.0\" y1=\"250.0\" x2=\"150.0\" y2=\"250.0\" stroke-linecap=\"round\" style=\"stroke:black;stroke-width:1\" /><line x1=\"150.0\" y1=\"250.0\" x2=\"150.0\" y2=\"240.0\" stroke-linecap=\"round\" style=\"stroke:black;stroke-width:1\" /><line x1=\"150.0\" y1=\"240.0\" x2=\"150.0\" y2=\"230.0\" stroke-linecap=\"round\" style=\"stroke:black;stroke-width:1\" /><line x1=\"150.0\" y1=\"230.0\" x2=\"150.0\" y2=\"220.0\" stroke-linecap=\"round\" style=\"stroke:black;stroke-width:1\" /><line x1=\"150.0\" y1=\"220.0\" x2=\"150.0\" y2=\"210.0\" stroke-linecap=\"round\" style=\"stroke:black;stroke-width:1\" /><line x1=\"150.0\" y1=\"210.0\" x2=\"150.0\" y2=\"200.0\" stroke-linecap=\"round\" style=\"stroke:black;stroke-width:1\" /><line x1=\"150.0\" y1=\"200.0\" x2=\"150.0\" y2=\"190.0\" stroke-linecap=\"round\" style=\"stroke:black;stroke-width:1\" /><line x1=\"150.0\" y1=\"190.0\" x2=\"150.0\" y2=\"180.0\" stroke-linecap=\"round\" style=\"stroke:black;stroke-width:1\" /><line x1=\"150.0\" y1=\"180.0\" x2=\"150.0\" y2=\"170.0\" stroke-linecap=\"round\" style=\"stroke:black;stroke-width:1\" /><line x1=\"150.0\" y1=\"170.0\" x2=\"150.0\" y2=\"160.0\" stroke-linecap=\"round\" style=\"stroke:black;stroke-width:1\" /><line x1=\"150.0\" y1=\"160.0\" x2=\"150.0\" y2=\"150.0\" stroke-linecap=\"round\" style=\"stroke:black;stroke-width:1\" />\n",
              "        \n",
              "        \n",
              "        <g id=\"classic\" visibility=\"visible\" transform=\"rotate(180,150.0,150.0) translate(150.0, 150.0)\">\n",
              "<polygon points=\"-5,-4.5 0,-2.5 5,-4.5 0,4.5\" transform=\"skewX(0) scale(1,1)\" style=\"stroke:black;fill:black;stroke-width:1\" />\n",
              "</g>\n",
              "      </svg>\n",
              "    "
            ]
          },
          "metadata": {}
        }
      ]
    },
    {
      "cell_type": "markdown",
      "source": [
        "# for loops\n",
        "\n",
        "A much shorter way to do this is with the help of a for loop. Try running this code:"
      ],
      "metadata": {
        "id": "JPy2OLUIPa-z"
      }
    },
    {
      "cell_type": "code",
      "source": [
        "# setup the canvas\n",
        "turtle.clearscreen()\n",
        "turtle.setup(300,300)\n",
        "\n",
        "# create the turtle\n",
        "snappy = turtle.Turtle()\n",
        "\n",
        "for i in range(4):\n",
        "  snappy.forward(100)\n",
        "  snappy.right(90)"
      ],
      "metadata": {
        "id": "_e-mq-hKPf71",
        "colab": {
          "base_uri": "https://localhost:8080/",
          "height": 322
        },
        "outputId": "4c9eb5bf-7f03-48f3-b6d3-0ccfcd64c326"
      },
      "execution_count": 9,
      "outputs": [
        {
          "output_type": "display_data",
          "data": {
            "text/plain": [
              "<IPython.core.display.HTML object>"
            ],
            "text/html": [
              "\n",
              "      <svg width=\"300\" height=\"300\">  \n",
              "        <rect width=\"100%\" height=\"100%\" style=\"fill:white;stroke:;stroke-width:1\"/>\n",
              "        \n",
              "        \n",
              "        <line x1=\"150.0\" y1=\"150.0\" x2=\"250.0\" y2=\"150.0\" stroke-linecap=\"round\" style=\"stroke:black;stroke-width:1\" /><line x1=\"250.0\" y1=\"150.0\" x2=\"250.0\" y2=\"250.0\" stroke-linecap=\"round\" style=\"stroke:black;stroke-width:1\" /><line x1=\"250.0\" y1=\"250.0\" x2=\"150.0\" y2=\"250.0\" stroke-linecap=\"round\" style=\"stroke:black;stroke-width:1\" /><line x1=\"150.0\" y1=\"250.0\" x2=\"150.0\" y2=\"150.0\" stroke-linecap=\"round\" style=\"stroke:black;stroke-width:1\" />\n",
              "        \n",
              "        \n",
              "        <g id=\"classic\" visibility=\"visible\" transform=\"rotate(180,150.0,150.0) translate(150.0, 150.0)\">\n",
              "<polygon points=\"-5,-4.5 0,-2.5 5,-4.5 0,4.5\" transform=\"skewX(0) scale(1,1)\" style=\"stroke:black;fill:black;stroke-width:1\" />\n",
              "<animateTransform id = \"one\" attributeName=\"transform\" \n",
              "                      type=\"scale\"\n",
              "                      from=\"1 1\" to=\"1 1\"\n",
              "                      begin=\"0s\" dur=\"0.01s\"\n",
              "                      repeatCount=\"1\"\n",
              "                      additive=\"sum\"\n",
              "                      fill=\"freeze\"\n",
              "                /><animateTransform attributeName=\"transform\"\n",
              "                    type=\"rotate\"\n",
              "                    from=\"0 0 0\" to =\"90 0 0\"\n",
              "                    begin=\"one.end\" dur=\"0.25s\"\n",
              "                    repeatCount=\"1\"\n",
              "                    additive=\"sum\"\n",
              "                    fill=\"freeze\"\n",
              "                /></g>\n",
              "      </svg>\n",
              "    "
            ]
          },
          "metadata": {}
        }
      ]
    },
    {
      "cell_type": "markdown",
      "source": [
        "Here, the i is like a counter that starts from zero and keeps increasing by 1. When you say in range(4), you’re telling the program that the value of this i should be less than 4. It will terminate the program before i reaches 4.\n",
        "\n",
        "Here’s a breakdown of how the program works:\n",
        "\n",
        "* At i = 0, the turtle moves forward by 100 units and then turns 90 degrees to the right.\n",
        "* At i = 0 + 1 = 1, the turtle moves forward by 100 units and then turns 90 degrees to the right.\n",
        "* At i = 1 + 1 = 2, the turtle moves forward by 100 units and then turns 90 degrees to the right.\n",
        "* At i = 2 + 1 = 3, the turtle moves forward by 100 units and then turns 90 degrees to the right.\n",
        "\n",
        "*Lets print i*"
      ],
      "metadata": {
        "id": "8mX2udSEP5Yl"
      }
    },
    {
      "cell_type": "code",
      "source": [
        "print(i)"
      ],
      "metadata": {
        "id": "77HlP60RP-VN",
        "colab": {
          "base_uri": "https://localhost:8080/"
        },
        "outputId": "0d1b65f6-babf-428d-a7fd-393a8c526a2c"
      },
      "execution_count": 10,
      "outputs": [
        {
          "output_type": "stream",
          "name": "stdout",
          "text": [
            "3\n"
          ]
        }
      ]
    },
    {
      "cell_type": "markdown",
      "source": [
        "### While loops\n",
        "\n",
        "The while loop is used to perform a certain task while a condition is still satisfied. If the condition is no longer satisfied, then your code will terminate the process. You can use a while loop to create a series of circles by typing in this code:"
      ],
      "metadata": {
        "id": "ZUQJ_WqmQN7s"
      }
    },
    {
      "cell_type": "code",
      "source": [
        "n=10\n",
        "while n <= 40:\n",
        "  snappy.circle(n)\n",
        "  n = n+10"
      ],
      "metadata": {
        "id": "IEpqzTvLQYGN",
        "colab": {
          "base_uri": "https://localhost:8080/",
          "height": 322
        },
        "outputId": "3af30bbc-d5fb-4e89-8621-aca148cb8fc7"
      },
      "execution_count": 11,
      "outputs": [
        {
          "output_type": "display_data",
          "data": {
            "text/plain": [
              "<IPython.core.display.HTML object>"
            ],
            "text/html": [
              "\n",
              "      <svg width=\"300\" height=\"300\">  \n",
              "        <rect width=\"100%\" height=\"100%\" style=\"fill:white;stroke:;stroke-width:1\"/>\n",
              "        \n",
              "        \n",
              "        <line x1=\"150.0\" y1=\"150.0\" x2=\"250.0\" y2=\"150.0\" stroke-linecap=\"round\" style=\"stroke:black;stroke-width:1\" /><line x1=\"250.0\" y1=\"150.0\" x2=\"250.0\" y2=\"250.0\" stroke-linecap=\"round\" style=\"stroke:black;stroke-width:1\" /><line x1=\"250.0\" y1=\"250.0\" x2=\"150.0\" y2=\"250.0\" stroke-linecap=\"round\" style=\"stroke:black;stroke-width:1\" /><line x1=\"150.0\" y1=\"250.0\" x2=\"150.0\" y2=\"150.0\" stroke-linecap=\"round\" style=\"stroke:black;stroke-width:1\" /><path d=\"M 150.0 150.0 A 10 10 0 0 0 150.0 130.0\" stroke-linecap=\"round\" \n",
              "            fill=\"transparent\" fill-opacity=\"0\" style=\"stroke:black;stroke-width:1\"/><path d=\"M 150.0 130.0 A 10 10 0 0 0 150.0 150.0\" stroke-linecap=\"round\" \n",
              "            fill=\"transparent\" fill-opacity=\"0\" style=\"stroke:black;stroke-width:1\"/><path d=\"M 150.0 150.0 A 20 20 0 0 0 150.0 110.0\" stroke-linecap=\"round\" \n",
              "            fill=\"transparent\" fill-opacity=\"0\" style=\"stroke:black;stroke-width:1\"/><path d=\"M 150.0 110.0 A 20 20 0 0 0 150.0 150.0\" stroke-linecap=\"round\" \n",
              "            fill=\"transparent\" fill-opacity=\"0\" style=\"stroke:black;stroke-width:1\"/><path d=\"M 150.0 150.0 A 30 30 0 0 0 150.0 90.0\" stroke-linecap=\"round\" \n",
              "            fill=\"transparent\" fill-opacity=\"0\" style=\"stroke:black;stroke-width:1\"/><path d=\"M 150.0 90.0 A 30 30 0 0 0 150.0 150.0\" stroke-linecap=\"round\" \n",
              "            fill=\"transparent\" fill-opacity=\"0\" style=\"stroke:black;stroke-width:1\"/><path d=\"M 150.0 150.0 A 40 40 0 0 0 160.353 148.637\" stroke-linecap=\"round\" \n",
              "            fill=\"transparent\" fill-opacity=\"0\" style=\"stroke:black;stroke-width:1\"/><path d=\"M 160.353 148.637 A 40 40 0 0 0 170.0 144.641\" stroke-linecap=\"round\" \n",
              "            fill=\"transparent\" fill-opacity=\"0\" style=\"stroke:black;stroke-width:1\"/><path d=\"M 170.0 144.641 A 40 40 0 0 0 178.284 138.284\" stroke-linecap=\"round\" \n",
              "            fill=\"transparent\" fill-opacity=\"0\" style=\"stroke:black;stroke-width:1\"/><path d=\"M 178.284 138.284 A 40 40 0 0 0 184.641 130.0\" stroke-linecap=\"round\" \n",
              "            fill=\"transparent\" fill-opacity=\"0\" style=\"stroke:black;stroke-width:1\"/><path d=\"M 184.641 130.0 A 40 40 0 0 0 188.637 120.353\" stroke-linecap=\"round\" \n",
              "            fill=\"transparent\" fill-opacity=\"0\" style=\"stroke:black;stroke-width:1\"/><path d=\"M 188.637 120.353 A 40 40 0 0 0 190.0 110.0\" stroke-linecap=\"round\" \n",
              "            fill=\"transparent\" fill-opacity=\"0\" style=\"stroke:black;stroke-width:1\"/><path d=\"M 190.0 110.0 A 40 40 0 0 0 188.637 99.647\" stroke-linecap=\"round\" \n",
              "            fill=\"transparent\" fill-opacity=\"0\" style=\"stroke:black;stroke-width:1\"/><path d=\"M 188.637 99.647 A 40 40 0 0 0 184.641 90.0\" stroke-linecap=\"round\" \n",
              "            fill=\"transparent\" fill-opacity=\"0\" style=\"stroke:black;stroke-width:1\"/><path d=\"M 184.641 90.0 A 40 40 0 0 0 178.284 81.716\" stroke-linecap=\"round\" \n",
              "            fill=\"transparent\" fill-opacity=\"0\" style=\"stroke:black;stroke-width:1\"/><path d=\"M 178.284 81.716 A 40 40 0 0 0 170.0 75.359\" stroke-linecap=\"round\" \n",
              "            fill=\"transparent\" fill-opacity=\"0\" style=\"stroke:black;stroke-width:1\"/><path d=\"M 170.0 75.359 A 40 40 0 0 0 160.353 71.363\" stroke-linecap=\"round\" \n",
              "            fill=\"transparent\" fill-opacity=\"0\" style=\"stroke:black;stroke-width:1\"/><path d=\"M 160.353 71.363 A 40 40 0 0 0 150.0 70.0\" stroke-linecap=\"round\" \n",
              "            fill=\"transparent\" fill-opacity=\"0\" style=\"stroke:black;stroke-width:1\"/><path d=\"M 150.0 70.0 A 40 40 0 0 0 139.647 71.363\" stroke-linecap=\"round\" \n",
              "            fill=\"transparent\" fill-opacity=\"0\" style=\"stroke:black;stroke-width:1\"/><path d=\"M 139.647 71.363 A 40 40 0 0 0 130.0 75.359\" stroke-linecap=\"round\" \n",
              "            fill=\"transparent\" fill-opacity=\"0\" style=\"stroke:black;stroke-width:1\"/><path d=\"M 130.0 75.359 A 40 40 0 0 0 121.716 81.716\" stroke-linecap=\"round\" \n",
              "            fill=\"transparent\" fill-opacity=\"0\" style=\"stroke:black;stroke-width:1\"/><path d=\"M 121.716 81.716 A 40 40 0 0 0 115.359 90.0\" stroke-linecap=\"round\" \n",
              "            fill=\"transparent\" fill-opacity=\"0\" style=\"stroke:black;stroke-width:1\"/><path d=\"M 115.359 90.0 A 40 40 0 0 0 111.363 99.647\" stroke-linecap=\"round\" \n",
              "            fill=\"transparent\" fill-opacity=\"0\" style=\"stroke:black;stroke-width:1\"/><path d=\"M 111.363 99.647 A 40 40 0 0 0 110.0 110.0\" stroke-linecap=\"round\" \n",
              "            fill=\"transparent\" fill-opacity=\"0\" style=\"stroke:black;stroke-width:1\"/><path d=\"M 110.0 110.0 A 40 40 0 0 0 111.363 120.353\" stroke-linecap=\"round\" \n",
              "            fill=\"transparent\" fill-opacity=\"0\" style=\"stroke:black;stroke-width:1\"/><path d=\"M 111.363 120.353 A 40 40 0 0 0 115.359 130.0\" stroke-linecap=\"round\" \n",
              "            fill=\"transparent\" fill-opacity=\"0\" style=\"stroke:black;stroke-width:1\"/><path d=\"M 115.359 130.0 A 40 40 0 0 0 121.716 138.284\" stroke-linecap=\"round\" \n",
              "            fill=\"transparent\" fill-opacity=\"0\" style=\"stroke:black;stroke-width:1\"/><path d=\"M 121.716 138.284 A 40 40 0 0 0 130.0 144.641\" stroke-linecap=\"round\" \n",
              "            fill=\"transparent\" fill-opacity=\"0\" style=\"stroke:black;stroke-width:1\"/><path d=\"M 130.0 144.641 A 40 40 0 0 0 139.647 148.637\" stroke-linecap=\"round\" \n",
              "            fill=\"transparent\" fill-opacity=\"0\" style=\"stroke:black;stroke-width:1\"/><path d=\"M 139.647 148.637 A 40 40 0 0 0 150.0 150.0\" stroke-linecap=\"round\" \n",
              "            fill=\"transparent\" fill-opacity=\"0\" style=\"stroke:black;stroke-width:1\"/>\n",
              "        \n",
              "        \n",
              "        <g id=\"classic\" visibility=\"visible\" transform=\"rotate(-90.0,150.0,150.0) translate(150.0, 150.0)\">\n",
              "<polygon points=\"-5,-4.5 0,-2.5 5,-4.5 0,4.5\" transform=\"skewX(0) scale(1,1)\" style=\"stroke:black;fill:black;stroke-width:1\" />\n",
              "</g>\n",
              "      </svg>\n",
              "    "
            ]
          },
          "metadata": {}
        }
      ]
    },
    {
      "cell_type": "markdown",
      "source": [
        "> Notice how I didn't reset the canvas this time, so we can still see the square.\n",
        "\n",
        "Here, n is used as a counter. You’ll need to specify by how much you want the value of n to increase in each loop. Take a look at this mini walk-through to see how the program works:\n",
        "\n",
        "* At n = 10, the turtle draws a circle with a radius of 10 units. After that, the value of n is increased by 10.\n",
        "* At n = 20, the turtle draws a circle with a radius of 20 units. Once again, the value of n is increased by 10.\n",
        "* At n = 30, the turtle draws a circle with a radius of 30 units. For the third time, the value of n is increased by 10.\n",
        "* At n = 40, the turtle draws a circle with a radius of 40 units. For the last time, the value of n is increased by 10.\n",
        "* At n = 50, n is no longer less than or equal to 40. The loop is terminated.\n",
        "\n",
        "### Functions\n",
        "\n",
        "We can semantically group instructions into a fucntion.  Let us create a square() and "
      ],
      "metadata": {
        "id": "-f5CBPRGQh0N"
      }
    },
    {
      "cell_type": "code",
      "source": [
        "def square(snappy):\n",
        "  for i in range(4):\n",
        "    snappy.forward(100)\n",
        "    snappy.right(90)\n",
        "\n",
        "def circles(snappy):\n",
        "  n=10\n",
        "  while n <= 40:\n",
        "    snappy.circle(n)\n",
        "    n = n+10\n",
        "\n",
        "# setup the canvas\n",
        "turtle.clearscreen()\n",
        "turtle.setup(300,300)\n",
        "\n",
        "# create the turtle\n",
        "snappy = turtle.Turtle()\n",
        "\n",
        "snappy.pen(pencolor=\"purple\", fillcolor=\"orange\", pensize=10, speed=9)\n",
        "snappy.begin_fill()\n",
        "square(snappy)\n",
        "circles(snappy)\n",
        "snappy.end_fill()"
      ],
      "metadata": {
        "id": "wW4mRITUR4zW",
        "colab": {
          "base_uri": "https://localhost:8080/",
          "height": 322
        },
        "outputId": "22c100d2-fdbf-42bb-8b2a-f5d5aea952b2"
      },
      "execution_count": 12,
      "outputs": [
        {
          "output_type": "display_data",
          "data": {
            "text/plain": [
              "<IPython.core.display.HTML object>"
            ],
            "text/html": [
              "\n",
              "      <svg width=\"300\" height=\"300\">  \n",
              "        <rect width=\"100%\" height=\"100%\" style=\"fill:white;stroke:;stroke-width:1\"/>\n",
              "        \n",
              "        \n",
              "        <path fill-rule=\"evenodd\" fill-opacity=\"1\" d=\"M 150.0 150.0  L 250.0 150.0  L 250.0 250.0  L 150.0 250.0  L 150.0 150.0  A 10 10 0 0 0 150.0 130.0  A 10 10 0 0 0 150.0 150.0  A 20 20 0 0 0 150.0 110.0  A 20 20 0 0 0 150.0 150.0  A 30 30 0 0 0 150.0 90.0  A 30 30 0 0 0 150.0 150.0  A 40 40 0 0 0 150.0 70.0  A 40 40 0 0 0 150.0 150.0 \" stroke-linecap=\"round\" style=\"stroke:purple;stroke-width:10\" fill=\"orange\" />\n",
              "        \n",
              "        \n",
              "        <g id=\"classic\" visibility=\"visible\" transform=\"rotate(-90.0,150.0,150.0) translate(150.0, 150.0)\">\n",
              "<polygon points=\"-5,-4.5 0,-2.5 5,-4.5 0,4.5\" transform=\"skewX(0) scale(1,1)\" style=\"stroke:purple;fill:orange;stroke-width:1\" />\n",
              "</g>\n",
              "      </svg>\n",
              "    "
            ]
          },
          "metadata": {}
        }
      ]
    },
    {
      "cell_type": "markdown",
      "source": [
        "### Conditional Statements\n",
        "\n",
        "You use conditional statements to check if a given condition is true. If it is, then the corresponding command is executed.\n",
        "\n"
      ],
      "metadata": {
        "id": "AY963jKwSqXl"
      }
    },
    {
      "cell_type": "code",
      "source": [
        "# setup the canvas\n",
        "turtle.clearscreen()\n",
        "turtle.setup(300,300)\n",
        "\n",
        "# create the turtle\n",
        "snappy = turtle.Turtle()\n",
        "\n",
        "answer = input(\"Would you like me to draw a shape? Type yes or no: \")\n",
        "if answer == \"yes\":\n",
        "  snappy.circle(50)"
      ],
      "metadata": {
        "id": "NrB8Oj7xS1Le",
        "colab": {
          "base_uri": "https://localhost:8080/",
          "height": 322
        },
        "outputId": "1017e2c9-808a-4849-ba59-5bfb40527bf4"
      },
      "execution_count": null,
      "outputs": [
        {
          "output_type": "display_data",
          "data": {
            "text/plain": [
              "<IPython.core.display.HTML object>"
            ],
            "text/html": [
              "\n",
              "      <svg width=\"300\" height=\"300\">  \n",
              "        <rect width=\"100%\" height=\"100%\" style=\"fill:white;stroke:;stroke-width:1\"/>\n",
              "        \n",
              "        \n",
              "        \n",
              "        \n",
              "        \n",
              "        <g id=\"classic\" visibility=\"visible\" transform=\"rotate(-90,150.0,150.0) translate(150.0, 150.0)\">\n",
              "<polygon points=\"-5,-4.5 0,-2.5 5,-4.5 0,4.5\" transform=\"skewX(0) scale(1,1)\" style=\"stroke:black;fill:black;stroke-width:1\" />\n",
              "</g>\n",
              "      </svg>\n",
              "    "
            ]
          },
          "metadata": {}
        }
      ]
    },
    {
      "cell_type": "markdown",
      "source": [
        "`input()` is used to obtain input from the user. Here, it will store the user’s response under the variable `answer`. Next, it will check whether the value of `answer` is `yes`. If it’s `yes`, then your program draws a circle. If the user types in **anything** else, then the program won’t do anything.\n",
        "\n",
        "# Menu System\n",
        "\n",
        "Combining a while loop, input() and conditionals we can build a simple menu"
      ],
      "metadata": {
        "id": "8snEiSoFTMFr"
      }
    },
    {
      "cell_type": "code",
      "source": [
        "# define our shapes\n",
        "def octagon(turtle):         \n",
        "  for i in range (1,9): \n",
        "    turtle.forward(30)\n",
        "    turtle.right(45)\n",
        "\n",
        "def square(snappy):\n",
        "  for i in range(4):\n",
        "    snappy.forward(100)\n",
        "    snappy.right(90)\n",
        "\n",
        "# setup the canvas\n",
        "turtle.clearscreen()\n",
        "turtle.setup(300,300)\n",
        "\n",
        "# create the turtle\n",
        "snappy = turtle.Turtle()\n",
        "\n",
        "while True:\n",
        "  answer = input(\"What shape do you want to draw? C=Circle, O=Octagon, S=Square, Q=Quit \")\n",
        "  if answer[0].upper() == 'C':\n",
        "    snappy.circle(20)\n",
        "  elif answer[0].upper() == 'O':\n",
        "    octagon(snappy)\n",
        "  elif answer[0].upper() == 'S':\n",
        "    square(snappy)\n",
        "  elif answer[0].upper() == 'Q':\n",
        "    break\n",
        "  else:\n",
        "    print(f\"{answer} is invalid, please enter 'C', 'O', 'S' or 'Q'\")"
      ],
      "metadata": {
        "id": "XBAT9cFBUUbn"
      },
      "execution_count": null,
      "outputs": []
    },
    {
      "cell_type": "markdown",
      "source": [
        "# Lets save the image to a file\n",
        "\n",
        "The graphics are drawn using SVG tags. The SVG commands can be printed on screen (after the drawing is completed) or saved to a file for use in a program.  The following cell will save the canvas to a file called `SVGimage.svg`"
      ],
      "metadata": {
        "id": "_MYJ0xSQt1Wm"
      }
    },
    {
      "cell_type": "code",
      "source": [
        "turtle.saveSVG(turtle=True)"
      ],
      "metadata": {
        "id": "mStr_qhNt2C1"
      },
      "execution_count": null,
      "outputs": []
    },
    {
      "cell_type": "markdown",
      "source": [
        "Now download `SVGimage.svg` and include in what ever program you like."
      ],
      "metadata": {
        "id": "QfaYA8hOuLJU"
      }
    }
  ]
}