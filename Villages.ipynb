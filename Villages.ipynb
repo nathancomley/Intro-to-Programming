{
  "nbformat": 4,
  "nbformat_minor": 0,
  "metadata": {
    "colab": {
      "name": "Villages.ipynb",
      "provenance": [],
      "authorship_tag": "ABX9TyNFBGOIeohhGp9FVxI7cl+q",
      "include_colab_link": true
    },
    "kernelspec": {
      "name": "python3",
      "display_name": "Python 3"
    },
    "language_info": {
      "name": "python"
    }
  },
  "cells": [
    {
      "cell_type": "markdown",
      "metadata": {
        "id": "view-in-github",
        "colab_type": "text"
      },
      "source": [
        "<a href=\"https://colab.research.google.com/github/nathancomley/Intro-to-Programming/blob/main/Villages.ipynb\" target=\"_parent\"><img src=\"https://colab.research.google.com/assets/colab-badge.svg\" alt=\"Open In Colab\"/></a>"
      ]
    },
    {
      "cell_type": "code",
      "execution_count": null,
      "metadata": {
        "id": "eeTsTm0Fjxn4"
      },
      "outputs": [],
      "source": [
        "my_list = [1,2,3]\n",
        "\n",
        "my_list.append(99)\n",
        "print(my_list)\n",
        "\n",
        "another_list = [3,2,1]\n",
        "my_list.extend(another_list)\n",
        "print(my_list)\n",
        "\n",
        "my_list.insert(1,98)\n"
      ]
    }
  ]
}