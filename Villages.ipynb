{
  "nbformat": 4,
  "nbformat_minor": 0,
  "metadata": {
    "colab": {
      "name": "Villages.ipynb",
      "provenance": [],
      "collapsed_sections": [],
      "authorship_tag": "ABX9TyOCkaGgX269dhXr2PTRmDeu",
      "include_colab_link": true
    },
    "kernelspec": {
      "name": "python3",
      "display_name": "Python 3"
    },
    "language_info": {
      "name": "python"
    }
  },
  "cells": [
    {
      "cell_type": "markdown",
      "metadata": {
        "id": "view-in-github",
        "colab_type": "text"
      },
      "source": [
        "<a href=\"https://colab.research.google.com/github/nathancomley/Intro-to-Programming/blob/main/Villages.ipynb\" target=\"_parent\"><img src=\"https://colab.research.google.com/assets/colab-badge.svg\" alt=\"Open In Colab\"/></a>"
      ]
    },
    {
      "cell_type": "markdown",
      "source": [
        "CCC '18 S1 - Voronoi Villages\n",
        " View as PDF\n",
        "Submit solution\n",
        "All submissions\n",
        "Best submissions\n",
        "Read editorial\n",
        "Points:3 (partial)\n",
        "Time limit:1.0s\n",
        "Memory limit:256M\n",
        "Problem type\n",
        "Canadian Computing Competition: 2018 Stage 1, Senior #1\n",
        "In the country of Voronoi, there are  villages, located at distinct points on a straight road. Each of these villages will be represented by an integer position along this road.\n",
        "\n",
        "Each village defines its neighbourhood as all points along the road which are closer to it than to any other village. A point which is equally close to two distinct villages  and  is in the neighbourhood of  and also in the neighbourhood of .\n",
        "\n",
        "Each neighbourhood has a size which is the difference between the minimum (leftmost) point in its neighbourhood and the maximum (rightmost) point in its neighbourhood.\n",
        "\n",
        "The neighbourhoods of the leftmost and rightmost villages are defined to be of infinite size, while all other neighbourhoods are finite in size.\n",
        "\n",
        "Determine the smallest size of any of the neighbourhoods (with exactly 1 digit after the decimal point).\n",
        "\n",
        "Input Specification\n",
        "The first line will contain the number  , the number of villages. On the next  lines there will be one integer per line, where the  line will contain the integer , the position of the  village . All villages are at distinct positions.\n",
        "\n",
        "Output Specification\n",
        "Output the smallest neighbourhood size with exactly one digit after the decimal point.\n",
        "\n",
        "Sample Input\n",
        "\n",
        "    5\n",
        "    16\n",
        "    0\n",
        "    10\n",
        "    4\n",
        "    15\n",
        "Sample Output\n",
        "\n",
        "    3.0"
      ],
      "metadata": {
        "id": "VKhiDZ1Tn3DX"
      }
    },
    {
      "cell_type": "code",
      "execution_count": 1,
      "metadata": {
        "id": "eeTsTm0Fjxn4",
        "colab": {
          "base_uri": "https://localhost:8080/"
        },
        "outputId": "d9dcbcc7-88ad-4d45-bfb5-a0ea3f85fe1a"
      },
      "outputs": [
        {
          "output_type": "stream",
          "name": "stdout",
          "text": [
            "[1, 2, 3, 99]\n",
            "[1, 2, 3, 99, 3, 2, 1]\n",
            "[1, 98, 2, 3, 99, 3, 2, 1]\n",
            "[1, 1, 2, 2, 3, 3, 98, 99]\n",
            "[99, 98, 3, 3, 2, 2, 1, 1]\n",
            "[99, 98, 3, 3, 2, 2, 1, 1]\n",
            "[98, 3, 3, 2, 2, 1, 1]\n",
            "[98, 3, 3, 2, 1, 1]\n"
          ]
        }
      ],
      "source": [
        "my_list = [1,2,3]\n",
        "\n",
        "my_list.append(99)\n",
        "print(my_list)\n",
        "\n",
        "another_list = [3,2,1]\n",
        "my_list.extend(another_list)\n",
        "print(my_list)\n",
        "\n",
        "my_list.insert(1,98)\n",
        "print(my_list)\n",
        "\n",
        "my_list.sort()\n",
        "print(my_list)\n",
        "\n",
        "my_list.sort(reverse=True)\n",
        "print(my_list)\n",
        "\n",
        "my_list.pop\n",
        "print(my_list)\n",
        "\n",
        "my_list.pop(0)\n",
        "print(my_list)\n",
        "\n",
        "my_list.remove(2)\n",
        "print(my_list)"
      ]
    },
    {
      "cell_type": "code",
      "source": [
        "positions = [0,4,10,15,16] # Dummy test data, already sorted\n",
        "\n",
        "left = (positions[1]- positions[0]) / 2\n",
        "right = (positions[2] - positions[1]) / 2\n",
        "\n",
        "min_size = left + right\n",
        "print(min_size)"
      ],
      "metadata": {
        "colab": {
          "base_uri": "https://localhost:8080/"
        },
        "id": "oXyLjQSooHcT",
        "outputId": "88cdbc72-1daf-4772-c4e1-49d88e07e4c6"
      },
      "execution_count": 2,
      "outputs": [
        {
          "output_type": "stream",
          "name": "stdout",
          "text": [
            "5.0\n"
          ]
        }
      ]
    },
    {
      "cell_type": "code",
      "source": [
        "#get the number of vilagers\n",
        "\n",
        "n = int(input())\n",
        "\n",
        "#get ready to store positions\n",
        "\n",
        "positions = []\n",
        "\n",
        "#get vilagers position\n",
        "for i in range(n):\n",
        "  positions.append(int(input()))\n",
        "\n",
        "  positions.sort()\n",
        "  print(positions)\n",
        "\n"
      ],
      "metadata": {
        "id": "buS2p6rmplBh",
        "colab": {
          "base_uri": "https://localhost:8080/"
        },
        "outputId": "24708269-b7a1-47e1-cfe9-099a63c3b302"
      },
      "execution_count": null,
      "outputs": [
        {
          "output_type": "stream",
          "name": "stdout",
          "text": [
            "5\n",
            "5\n",
            "[5]\n",
            "7\n",
            "[5, 7]\n",
            "9\n",
            "[5, 7, 9]\n"
          ]
        }
      ]
    },
    {
      "cell_type": "code",
      "source": [
        "print(range(n))"
      ],
      "metadata": {
        "id": "TynZFDhYrEBd"
      },
      "execution_count": null,
      "outputs": []
    },
    {
      "cell_type": "code",
      "source": [
        "print(list(range(1,5)))"
      ],
      "metadata": {
        "id": "eUcTtdQOrKig",
        "colab": {
          "base_uri": "https://localhost:8080/"
        },
        "outputId": "b20dbce0-ff2b-4b62-d4a6-9d087179617e"
      },
      "execution_count": 1,
      "outputs": [
        {
          "output_type": "stream",
          "name": "stdout",
          "text": [
            "[1, 2, 3, 4]\n"
          ]
        }
      ]
    },
    {
      "cell_type": "code",
      "source": [
        "print(list(range(1,4)))"
      ],
      "metadata": {
        "id": "KRceIKLTrQ5H",
        "colab": {
          "base_uri": "https://localhost:8080/"
        },
        "outputId": "f3fe7203-07cc-4765-9727-931fb2254861"
      },
      "execution_count": 2,
      "outputs": [
        {
          "output_type": "stream",
          "name": "stdout",
          "text": [
            "[1, 2, 3]\n"
          ]
        }
      ]
    },
    {
      "cell_type": "code",
      "source": [
        "#get the number of vilagers\n",
        "\n",
        "n = int(input())\n",
        "\n",
        "#get ready to store positions\n",
        "\n",
        "positions = []\n",
        "\n",
        "#get vilagers position\n",
        "for i in range(n):\n",
        "  positions.append(int(input()))\n",
        "\n",
        "  positions.sort()\n",
        "  \n",
        "for i in range(1,4):\n",
        "  left = (positions[i]- positions[i-1]) / 2\n",
        "  right = (positions[i+1] - positions[i]) / 2\n",
        "  the_size = left + right\n",
        "  sizes.append(the_size)\n",
        "\n",
        "min_size = min(sizes)\n",
        "print(min_size)"
      ],
      "metadata": {
        "id": "DtuJcMaDrWG6"
      },
      "execution_count": null,
      "outputs": []
    },
    {
      "cell_type": "code",
      "source": [
        ""
      ],
      "metadata": {
        "id": "UcmMNq1bsW7m"
      },
      "execution_count": null,
      "outputs": []
    }
  ]
}