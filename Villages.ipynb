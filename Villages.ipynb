{
  "nbformat": 4,
  "nbformat_minor": 0,
  "metadata": {
    "colab": {
      "name": "Villages.ipynb",
      "provenance": [],
      "collapsed_sections": [],
      "authorship_tag": "ABX9TyMd0TO/53aEMgkyBwXti5V+",
      "include_colab_link": true
    },
    "kernelspec": {
      "name": "python3",
      "display_name": "Python 3"
    },
    "language_info": {
      "name": "python"
    }
  },
  "cells": [
    {
      "cell_type": "markdown",
      "metadata": {
        "id": "view-in-github",
        "colab_type": "text"
      },
      "source": [
        "<a href=\"https://colab.research.google.com/github/nathancomley/Intro-to-Programming/blob/main/Villages.ipynb\" target=\"_parent\"><img src=\"https://colab.research.google.com/assets/colab-badge.svg\" alt=\"Open In Colab\"/></a>"
      ]
    },
    {
      "cell_type": "markdown",
      "source": [
        "CCC '18 S1 - Voronoi Villages\n",
        " View as PDF\n",
        "Submit solution\n",
        "All submissions\n",
        "Best submissions\n",
        "Read editorial\n",
        "Points:3 (partial)\n",
        "Time limit:1.0s\n",
        "Memory limit:256M\n",
        "Problem type\n",
        "Canadian Computing Competition: 2018 Stage 1, Senior #1\n",
        "In the country of Voronoi, there are  villages, located at distinct points on a straight road. Each of these villages will be represented by an integer position along this road.\n",
        "\n",
        "Each village defines its neighbourhood as all points along the road which are closer to it than to any other village. A point which is equally close to two distinct villages  and  is in the neighbourhood of  and also in the neighbourhood of .\n",
        "\n",
        "Each neighbourhood has a size which is the difference between the minimum (leftmost) point in its neighbourhood and the maximum (rightmost) point in its neighbourhood.\n",
        "\n",
        "The neighbourhoods of the leftmost and rightmost villages are defined to be of infinite size, while all other neighbourhoods are finite in size.\n",
        "\n",
        "Determine the smallest size of any of the neighbourhoods (with exactly 1 digit after the decimal point).\n",
        "\n",
        "Input Specification\n",
        "The first line will contain the number  , the number of villages. On the next  lines there will be one integer per line, where the  line will contain the integer , the position of the  village . All villages are at distinct positions.\n",
        "\n",
        "Output Specification\n",
        "Output the smallest neighbourhood size with exactly one digit after the decimal point.\n",
        "\n",
        "Sample Input\n",
        "\n",
        "    5\n",
        "    16\n",
        "    0\n",
        "    10\n",
        "    4\n",
        "    15\n",
        "Sample Output\n",
        "\n",
        "    3.0"
      ],
      "metadata": {
        "id": "VKhiDZ1Tn3DX"
      }
    },
    {
      "cell_type": "code",
      "execution_count": null,
      "metadata": {
        "id": "eeTsTm0Fjxn4"
      },
      "outputs": [],
      "source": [
        "my_list = [1,2,3]\n",
        "\n",
        "my_list.append(99)\n",
        "print(my_list)\n",
        "\n",
        "another_list = [3,2,1]\n",
        "my_list.extend(another_list)\n",
        "print(my_list)\n",
        "\n",
        "my_list.insert(1,98)\n",
        "print(my_list)\n",
        "\n",
        "my_list.sort()"
      ]
    },
    {
      "cell_type": "code",
      "source": [
        "positions = [0,4,10,15,16] # Dummy test data, already sorted\n",
        "\n",
        "left = (positions[1]- positions[0]) / 2\n",
        "right = (positions[2] - positions[1]) / 2\n",
        "\n",
        "min_size = left + right\n",
        "print(min_size)"
      ],
      "metadata": {
        "colab": {
          "base_uri": "https://localhost:8080/"
        },
        "id": "oXyLjQSooHcT",
        "outputId": "5815e3d5-55ac-4b31-a656-0a80f81d17c5"
      },
      "execution_count": 2,
      "outputs": [
        {
          "output_type": "stream",
          "name": "stdout",
          "text": [
            "5.0\n"
          ]
        }
      ]
    },
    {
      "cell_type": "code",
      "source": [
        "#get the number of vilagers\n",
        "\n",
        "n = int(input())\n",
        "\n",
        "#get ready to store positions\n",
        "\n",
        "positions = []\n",
        "\n",
        "#get vilagers position\n",
        "for i in range(n):\n",
        "  positions.append(int(input()))\n",
        "\n",
        "  positions.sort()\n",
        "  print(positions)\n",
        "\n"
      ],
      "metadata": {
        "id": "buS2p6rmplBh"
      },
      "execution_count": null,
      "outputs": []
    }
  ]
}