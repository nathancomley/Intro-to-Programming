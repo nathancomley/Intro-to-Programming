{
  "nbformat": 4,
  "nbformat_minor": 0,
  "metadata": {
    "colab": {
      "name": "sale_price.ipynb",
      "provenance": [],
      "include_colab_link": true
    },
    "kernelspec": {
      "name": "python3",
      "display_name": "Python 3"
    },
    "language_info": {
      "name": "python"
    }
  },
  "cells": [
    {
      "cell_type": "markdown",
      "metadata": {
        "id": "view-in-github",
        "colab_type": "text"
      },
      "source": [
        "<a href=\"https://colab.research.google.com/github/nathancomley/Intro-to-Programming/blob/main/sale_price.ipynb\" target=\"_parent\"><img src=\"https://colab.research.google.com/assets/colab-badge.svg\" alt=\"Open In Colab\"/></a>"
      ]
    },
    {
      "cell_type": "markdown",
      "metadata": {
        "id": "cgTeiXOtSPjH"
      },
      "source": [
        "# Sales Price\n",
        "\n",
        "A local department store needs to develop a program that will computer the total price (including goods and services tax) of the item on sale when given an item's original price and discount percentage.\n",
        "\n",
        "## Tasks\n",
        "* Save to Github\n",
        "* Design Algorithm\n",
        "* Write and test the program in Python"
      ]
    },
    {
      "cell_type": "code",
      "metadata": {
        "id": "pPIN2ZcrSqdw",
        "outputId": "9a9794d0-46b6-4ee7-c80f-7fe108544f55",
        "colab": {
          "base_uri": "https://localhost:8080/"
        }
      },
      "source": [
        "#Get the original price\n",
        "\n",
        "original_price = int(input(\" enter products original price \"))\n",
        "\n",
        "#Get discount percentage\n",
        "\n",
        "discount_percentage = int(input(\" enter discount percentage \")) \n",
        "\n",
        "#Let sale_price = (original_price - (original_price * discount_percentage / 100))\n",
        "sale_price = (original_price - (original_price * discount_percentage / 100))\n",
        "\n",
        "#Print the sale price\n",
        "print(\"The price of this item is now: \", sale_price)"
      ],
      "execution_count": 11,
      "outputs": [
        {
          "output_type": "stream",
          "name": "stdout",
          "text": [
            " enter products original price 100\n",
            " enter discount percentage 10\n",
            "The price of this item is now:  90.0\n"
          ]
        }
      ]
    }
  ]
}