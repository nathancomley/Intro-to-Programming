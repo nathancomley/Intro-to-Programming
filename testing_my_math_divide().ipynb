{
  "nbformat": 4,
  "nbformat_minor": 0,
  "metadata": {
    "colab": {
      "name": "testing_my_math.divide().ipynb",
      "provenance": [],
      "include_colab_link": true
    },
    "kernelspec": {
      "name": "python3",
      "display_name": "Python 3"
    },
    "language_info": {
      "name": "python"
    }
  },
  "cells": [
    {
      "cell_type": "markdown",
      "metadata": {
        "id": "view-in-github",
        "colab_type": "text"
      },
      "source": [
        "<a href=\"https://colab.research.google.com/github/nathancomley/Intro-to-Programming/blob/main/testing_my_math_divide().ipynb\" target=\"_parent\"><img src=\"https://colab.research.google.com/assets/colab-badge.svg\" alt=\"Open In Colab\"/></a>"
      ]
    },
    {
      "cell_type": "markdown",
      "source": [
        "## Testing  my_math.divide()\n",
        "\n",
        "What is your preferred testing strategy? Do you like using the assert statement or prefer doctest?  \n",
        "\n",
        "Using your preferred testing strategy, develop a test table and test the following funciton.  Where required update the function so all test behave as expected.\n",
        "\n",
        "\n",
        "## Function to test"
      ],
      "metadata": {
        "id": "LIfoDVzKX7uK"
      }
    },
    {
      "cell_type": "code",
      "source": [
        "def divide(x, y):\n",
        "    '''Divide first by second number'''\n",
        "    return x / y"
      ],
      "metadata": {
        "id": "YH9gDoOYvKwg"
      },
      "execution_count": 1,
      "outputs": []
    },
    {
      "cell_type": "markdown",
      "source": [
        "## Test Table\n",
        "\n",
        "List you test cases here."
      ],
      "metadata": {
        "id": "JYSZ-53nLF6n"
      }
    },
    {
      "cell_type": "markdown",
      "source": [
        "| Test # | Type    | Data     | Expected | Actual | Pass/Fail |\n",
        "|--------|---------|----------|----------|--------|-----------|\n",
        "|  1     | Valid   |4,2       | 2        |        |           |\n",
        "|  2     | Valid   |1,1       | 1        |        |           |\n",
        "|  3     | Valid   |-1,-2     | 0.5       |        |           |\n",
        "|  4    | Valid   |5.5,2.2   | 2.5      |        |           |\n",
        "|  5    | Valid   |-5.5,-2.2 | 2.5      |        |           |\n",
        "|  6    | Invalid |'0',0     | 'Not a number'|   |           |\n",
        "|  7    | Invalid |'One','0' | 'Not a number'|   |           |"
      ],
      "metadata": {
        "id": "u_so46qQZ9nU"
      }
    },
    {
      "cell_type": "code",
      "source": [
        "assert divide(4,2) == 2\n",
        "assert divide(1,1) == 1\n",
        "assert divide(-1,-2) == 0.5\n",
        "assert divide(5.5,2.2) == 2.5\n",
        "assert divide(-5.5,-2.2) == 2.5"
      ],
      "metadata": {
        "id": "-OjCy4Htbe8z"
      },
      "execution_count": 6,
      "outputs": []
    },
    {
      "cell_type": "code",
      "source": [
        "assert divide('0',0) == 'Not a number' \n",
        "assert divide('one',0) == 'Not a number' \n",
        "\n",
        "# TEST 6,7 failed so Lets fix it."
      ],
      "metadata": {
        "id": "Qq07b7RochNl"
      },
      "execution_count": 15,
      "outputs": []
    },
    {
      "cell_type": "code",
      "source": [
        "def divide(x, y):\n",
        "    '''Divide two numbers'''\n",
        "    if (type(x) == int or type(x) == float) and (type(y) == int or type(y) == float):\n",
        "      return x / y\n",
        "    return \"Not a number\""
      ],
      "metadata": {
        "id": "MS3tHmboc54g"
      },
      "execution_count": 12,
      "outputs": []
    },
    {
      "cell_type": "code",
      "source": [
        "assert divide(4,2) == 2\n",
        "assert divide(1,1) == 1\n",
        "assert divide(-1,-2) == 0.5\n",
        "assert divide(5.5,2.2) == 2.5\n",
        "assert divide(-5.5,-2.2) == 2.5"
      ],
      "metadata": {
        "id": "R2iTAmlBdSxb"
      },
      "execution_count": 13,
      "outputs": []
    },
    {
      "cell_type": "code",
      "source": [
        "assert divide('0',0) == 'Not a number' \n",
        "assert divide('one',0) == 'Not a number' "
      ],
      "metadata": {
        "id": "yTOTaxQldbdu"
      },
      "execution_count": 14,
      "outputs": []
    },
    {
      "cell_type": "code",
      "source": [
        "# as we can see all the test has pasted now, this is because I have fixed the code. I could have ran more test but you can get the idea."
      ],
      "metadata": {
        "id": "gRRHIf_2dfMA"
      },
      "execution_count": null,
      "outputs": []
    }
  ]
}